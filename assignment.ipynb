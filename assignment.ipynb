{
 "cells": [
  {
   "cell_type": "markdown",
   "metadata": {},
   "source": [
    "<h1 align=\"center\">Natural Language Processing </h1>\n",
    "<h3 align=\"center\">Assignmnet 1</h3>\n",
    "<h3 align=\"center\">Roll no: 17210112</h3>\n",
    "<h3 align=\"center\">Name: Twinkle Panchal\n",
    "  </h3>                          \n",
    "                       \n"
   ]
  },
  {
   "cell_type": "markdown",
   "metadata": {},
   "source": [
    "<ul><li>I have processed **Shakespeare's** novel.</li>\n",
    "<li>The text file is taken directly as **URL**.</li>"
   ]
  },
  {
   "cell_type": "code",
   "execution_count": 121,
   "metadata": {
    "collapsed": true
   },
   "outputs": [],
   "source": [
    "import nltk\n",
    "from urllib2 import urlopen, Request\n",
    "url = \"https://ocw.mit.edu/ans7870/6/6.006/s08/lecturenotes/files/t8.shakespeare.txt\"\n",
    "file_txt= urlopen(url).read()\n",
    "from nltk.tokenize import RegexpTokenizer\n",
    "\n",
    "tokenizer = RegexpTokenizer(r'\\w+')\n",
    "file_txt = file_txt.decode('utf-8')\n",
    "tokens = tokenizer.tokenize(file_txt)    #this function ignore's punctuations and generate tokens"
   ]
  },
  {
   "cell_type": "code",
   "execution_count": 122,
   "metadata": {},
   "outputs": [
    {
     "name": "stdout",
     "output_type": "stream",
     "text": [
      "Total token count: 929396\n"
     ]
    }
   ],
   "source": [
    "print \"Total token count:\", len(tokens)\n"
   ]
  },
  {
   "cell_type": "code",
   "execution_count": 123,
   "metadata": {},
   "outputs": [
    {
     "name": "stdout",
     "output_type": "stream",
     "text": [
      "vocabulary size or token types: 29672\n"
     ]
    }
   ],
   "source": [
    "print \"vocabulary size or token types:\", len(set(tokens))  "
   ]
  },
  {
   "cell_type": "code",
   "execution_count": 124,
   "metadata": {},
   "outputs": [
    {
     "name": "stdout",
     "output_type": "stream",
     "text": [
      "TTR for corpus: 0.0319261111518\n"
     ]
    }
   ],
   "source": [
    "print \"TTR for corpus:\", len(set(tokens))/ float(len(tokens))  "
   ]
  },
  {
   "cell_type": "code",
   "execution_count": 125,
   "metadata": {},
   "outputs": [
    {
     "name": "stdout",
     "output_type": "stream",
     "text": [
      "<FreqDist with 29672 samples and 929396 outcomes>\n"
     ]
    }
   ],
   "source": [
    "tokenCount = nltk.FreqDist(tokens)\n",
    "print tokenCount"
   ]
  },
  {
   "cell_type": "code",
   "execution_count": 126,
   "metadata": {},
   "outputs": [
    {
     "name": "stdout",
     "output_type": "stream",
     "text": [
      "[(u'the', 23288), (u'I', 22225), (u'and', 18653), (u'to', 16373), (u'of', 15725), (u'a', 12796), (u'you', 12186), (u'my', 10839), (u'in', 10016), (u'd', 8954), (u'is', 8414), (u'that', 8343), (u'not', 8038), (u'me', 7752), (u's', 7487), (u'And', 7457), (u'with', 6802), (u'it', 6760), (u'be', 6412), (u'his', 6322), (u'your', 6014), (u'for', 5885), (u'this', 5478), (u'have', 5455), (u'him', 5175), (u'he', 5118), (u'thou', 4594), (u'will', 4524), (u'as', 4320), (u'The', 4029), (u'so', 4024), (u'but', 3666), (u'her', 3663), (u'thy', 3634), (u'all', 3458), (u'To', 3434), (u'do', 3306), (u'thee', 3162), (u'shall', 3128), (u'are', 3126), (u'by', 2984), (u'That', 2984), (u'on', 2978), (u'we', 2736), (u'no', 2714), (u'our', 2695), (u'But', 2613), (u'What', 2549), (u'll', 2409), (u'O', 2317)]\n"
     ]
    }
   ],
   "source": [
    "print tokenCount.most_common(50)"
   ]
  },
  {
   "cell_type": "code",
   "execution_count": 127,
   "metadata": {},
   "outputs": [
    {
     "data": {
      "image/png": "[encoded data removed]",
      "text/plain": [
       "<matplotlib.figure.Figure at 0x23b0dcc0>"
      ]
     },
     "metadata": {},
     "output_type": "display_data"
    }
   ],
   "source": [
    "tokenCount.plot(20)             # ploting the zifp's law for most 20 words , which says f ∝ 1/r. \n"
   ]
  },
  {
   "cell_type": "code",
   "execution_count": 128,
   "metadata": {
    "collapsed": true
   },
   "outputs": [],
   "source": [
    "from collections import defaultdict\n",
    "CountFreq = defaultdict(int)\n",
    "for word in tokenCount:\n",
    "    CountFreq[tokenCount[word]]+=1"
   ]
  },
  {
   "cell_type": "markdown",
   "metadata": {},
   "source": [
    "<h3> zipf's law : A relationship between the frequency of a word (f) and its position in the list\n",
    "(its rank r). </h3>\n",
    "\n",
    "<h2 align = 'center' >f ∝ $ \\frac{1}{r} $"
   ]
  },
  {
   "cell_type": "code",
   "execution_count": 129,
   "metadata": {},
   "outputs": [
    {
     "data": {
      "image/png": "[encoded data removed]",
      "text/plain": [
       "<matplotlib.figure.Figure at 0x230e6860>"
      ]
     },
     "metadata": {},
     "output_type": "display_data"
    }
   ],
   "source": [
    "import matplotlib.pyplot as plt                                                           # plotting zipf's law\n",
    "\n",
    "plt.scatter(CountFreq.keys(), CountFreq.values())\n",
    "plt.xlabel('Rank')\n",
    "plt.ylabel('Frequency')\n",
    "plt.yscale('log')\n",
    "plt.xscale('log')\n",
    "plt.ylim(0,25560)\n",
    "plt.xlim(0,70000)\n",
    "plt.show()"
   ]
  },
  {
   "cell_type": "markdown",
   "metadata": {},
   "source": [
    "<h3> Zipf's law for length of a word</h3><h3>\n",
    "it says length $l$ of word is inversly proposnal to the frequency of the word(f).</h3>\n",
    "<h2 align='center'>$l ∝ \\frac{1}{f}$</h2>\n",
    "\n",
    "\n",
    "\n"
   ]
  },
  {
   "cell_type": "code",
   "execution_count": 130,
   "metadata": {
    "collapsed": true
   },
   "outputs": [],
   "source": [
    "length_word=[]\n",
    "frequencyofword=[]\n",
    "for word in tokenCount:\n",
    "    length_word.append((len(word)))\n",
    "    \n",
    "    frequencyofword.append((tokenCount[word]))\n"
   ]
  },
  {
   "cell_type": "code",
   "execution_count": 131,
   "metadata": {},
   "outputs": [
    {
     "data": {
      "image/png": "[encoded data removed]",
      "text/plain": [
       "<matplotlib.figure.Figure at 0x1a4e02e8>"
      ]
     },
     "metadata": {},
     "output_type": "display_data"
    }
   ],
   "source": [
    "plt.scatter(frequencyofword,length_word)\n",
    "plt.xlabel('frequency of a word')\n",
    "plt.ylabel('length of a word')\n",
    "plt.show()"
   ]
  },
  {
   "cell_type": "markdown",
   "metadata": {},
   "source": [
    "<h3> Zipf's law for no of meanings of a word</h3><h3>\n",
    "it says meanings of word $m$ is  proposnal to the rootsquare of frequency of the word</h3>\n",
    "<h2 align='center'>$m ∝ \\sqrt{f}$\n",
    "</h2>\n",
    "\n",
    "zipf's law for meanings does not hold true when the corpus differs from differs from novel to news article, because in the news article they use unique and very precise word which does not have ambiguous meanings and also have very less meanings around 2 or 3. But in the novel it does work but also depend on words, because some words with very high frequency can have very less no meanings. It is true for very common words like 'has', 'make','play'... so on\n",
    "<h6></h6>\n",
    "zipf's law for length does not hold true when the corpus differs from novel to some news article because news articles have all words with almost equal frequency."
   ]
  },
  {
   "cell_type": "code",
   "execution_count": 132,
   "metadata": {},
   "outputs": [],
   "source": [
    "from nltk.corpus import wordnet\n",
    "No_of_meanings=[]\n",
    "frequenc_word=[]\n",
    "i=0;\n",
    "for word in tokenCount:\n",
    "    if(i==1000):\n",
    "        break;\n",
    "    i=i+1;\n",
    "    syns = wordnet.synsets(word)\n",
    "    No_of_meanings.append((len(syns)))\n",
    "    frequenc_word.append((tokenCount[word]))\n",
    "\n"
   ]
  },
  {
   "cell_type": "code",
   "execution_count": 133,
   "metadata": {},
   "outputs": [
    {
     "data": {
      "image/png": "[encoded data removed]",
      "text/plain": [
       "<matplotlib.figure.Figure at 0x22fe1a90>"
      ]
     },
     "metadata": {},
     "output_type": "display_data"
    }
   ],
   "source": [
    "plt.scatter(No_of_meanings,frequenc_word)\n",
    "plt.xlabel('No of meanings')\n",
    "plt.ylabel('frequency of a word')\n",
    "plt.show()"
   ]
  },
  {
   "cell_type": "markdown",
   "metadata": {},
   "source": [
    "<h1>heaps law</h1>\n",
    "\n",
    "<h3>I have taken set of first 500 words,first 1000 words , first 1500 words, first 2000 words and so on till length of tokens\n",
    "then find the value of vocab(no of unique words) with increasing size of wordset(500,1000,1500....)</h3>\n",
    "<h2>\n",
    "The law says the size of vocabulary |V| and N be the number of tokens.</h2>\n",
    "<h2 align='center'>$|V| = KN^B$</h2>\n",
    "<h4>\n",
    "so we can write this as</h4>\n",
    "<h2>\n",
    "$log(|V|) = log(K) +B*log(N)$ </h2><h4>which is of the form </h4><h2>\n",
    "$Y = m*X+c$</h2> <h2>\n",
    "m and c gives the value of K and B , which we can find with least square method for curve fitting.</h2>\n",
    "\n"
   ]
  },
  {
   "cell_type": "code",
   "execution_count": null,
   "metadata": {
    "collapsed": true
   },
   "outputs": [],
   "source": [
    "uniq_token =[]\n",
    "for i in range(500,len(tokens),500):\n",
    "    uniq_token.append(len(set(tokens[0:i])))\n",
    "    "
   ]
  },
  {
   "cell_type": "code",
   "execution_count": null,
   "metadata": {
    "collapsed": true
   },
   "outputs": [],
   "source": [
    "total_token=[]\n",
    "for i in range(500, len(tokens),500):\n",
    "    total_token.append(i)"
   ]
  },
  {
   "cell_type": "code",
   "execution_count": null,
   "metadata": {},
   "outputs": [],
   "source": [
    "plt.plot(total_token,uniq_token)\n",
    "plt.xlabel('total tokens')\n",
    "plt.ylabel('uniqe tokens')\n",
    "plt.show()\n"
   ]
  },
  {
   "cell_type": "code",
   "execution_count": null,
   "metadata": {},
   "outputs": [],
   "source": [
    "from math import log\n",
    "import numpy as np\n",
    "uniq=list(np.log(uniq_token))\n",
    "total=list(np.log(total_token))\n",
    "plt.scatter(total,uniq)\n",
    "plt.xlabel('log(total_tokens)')\n",
    "plt.ylabel('log(uniqe_tokens)')\n",
    "plt.show()"
   ]
  },
  {
   "cell_type": "code",
   "execution_count": null,
   "metadata": {},
   "outputs": [],
   "source": [
    "\n",
    "A = np.vstack([total, np.ones(len(total))]).T\n",
    "m, c = np.linalg.lstsq(A, uniq)[0]"
   ]
  },
  {
   "cell_type": "code",
   "execution_count": null,
   "metadata": {},
   "outputs": [],
   "source": [
    "m                                                  # value of B"
   ]
  },
  {
   "cell_type": "code",
   "execution_count": 109,
   "metadata": {},
   "outputs": [
    {
     "data": {
      "text/plain": [
       "3.0772197465755129"
      ]
     },
     "execution_count": 109,
     "metadata": {},
     "output_type": "execute_result"
    }
   ],
   "source": [
    "c"
   ]
  },
  {
   "cell_type": "code",
   "execution_count": 118,
   "metadata": {},
   "outputs": [
    {
     "data": {
      "text/plain": [
       "21.697992539691942"
      ]
     },
     "execution_count": 118,
     "metadata": {},
     "output_type": "execute_result"
    }
   ],
   "source": [
    "k = np.exp(c)  \n",
    "k                                                  # value of K "
   ]
  },
  {
   "cell_type": "code",
   "execution_count": 119,
   "metadata": {},
   "outputs": [
    {
     "data": {
      "image/png": "[encoded data removed]",
      "text/plain": [
       "<matplotlib.figure.Figure at 0x2334d5c0>"
      ]
     },
     "metadata": {},
     "output_type": "display_data"
    }
   ],
   "source": [
    "import matplotlib.pyplot as plt\n",
    "plt.plot(total, uniq, 'o', label='Original data', markersize=2)\n",
    "plt.plot(total, list(np.array(total)*m +c) , 'r', label='Fitted line')\n",
    "plt.xlabel('log(total_tokens)')\n",
    "plt.ylabel('log(uniqe_tokens)')\n",
    "plt.legend()\n",
    "plt.show()"
   ]
  },
  {
   "cell_type": "code",
   "execution_count": null,
   "metadata": {
    "collapsed": true
   },
   "outputs": [],
   "source": []
  }
 ],
 "metadata": {
  "kernelspec": {
   "display_name": "Python 2",
   "language": "python",
   "name": "python2"
  },
  "language_info": {
   "codemirror_mode": {
    "name": "ipython",
    "version": 2
   },
   "file_extension": ".py",
   "mimetype": "text/x-python",
   "name": "python",
   "nbconvert_exporter": "python",
   "pygments_lexer": "ipython2",
   "version": "2.7.13"
  }
 },
 "nbformat": 4,
 "nbformat_minor": 2
}
